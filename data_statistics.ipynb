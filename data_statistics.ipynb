{
 "cells": [
  {
   "cell_type": "code",
   "execution_count": 67,
   "metadata": {},
   "outputs": [],
   "source": [
    "# Install packages\n",
    "import pandas as pd\n"
   ]
  },
  {
   "cell_type": "code",
   "execution_count": 68,
   "metadata": {},
   "outputs": [],
   "source": [
    "# Read in train and test set files \n",
    "train = pd.read_csv(\"data/train_dataset.csv\")\n",
    "test = pd.read_csv(\"data/test_dataset.csv\")\n",
    "binary_train = pd.read_csv(\"data/binary_train_dataset.csv\")\n",
    "binary_test = pd.read_csv(\"data/binary_test_dataset.csv\")\n",
    "labels_to_sa_ids = {'ASSERTIVE': 0, 'COMOTH': 1, 'DIRECTIVE': 2, 'EXPRESSIVE': 3, 'UNSURE': 4}\n",
    "labels_to_binary_ids = {'offensive': 0, 'other': 1}\n",
    "labels_to_hs_ids = {'abuse': 0, 'explicit': 1, 'implicit': 2, 'insult': 3, 'other': 4, 'profanity': 5}\n",
    "ids_to_sa_labels = {0: 'ASSERTIVE', 1: 'COMOTH', 2: 'DIRECTIVE', 3: 'EXPRESSIVE', 4: 'UNSURE'}\n",
    "ids_to_hs_labels = {0: 'abuse', 1: 'explicit', 2: 'implicit', 3: 'insult', 4: 'other', 5: 'profanity'}\n",
    "ids_to_binary_labels = {0: 'offensive', 1: 'other'}"
   ]
  },
  {
   "cell_type": "code",
   "execution_count": 69,
   "metadata": {},
   "outputs": [],
   "source": [
    "# Define methods to get frequencies\n",
    "\n",
    "def count_hs_labels(df, binary=True):\n",
    "    label_counts = df[\"labels\"].value_counts()\n",
    "    count_dict = {}\n",
    "    for i  in range(0, len(label_counts)):\n",
    "        if binary:\n",
    "            count_dict[ids_to_binary_labels[i]] = label_counts[i]\n",
    "        else:\n",
    "            count_dict[ids_to_hs_labels[i]] = label_counts[i]\n",
    "    return count_dict\n",
    "\n",
    "def count_sa_labels(df):\n",
    "    texts = df[\"texts\"].tolist()\n",
    "    count_dict = {}\n",
    "    for text in texts:\n",
    "        splitted = text.split(\"[SEP]\")\n",
    "        for i in range(1,len(splitted)):\n",
    "            if splitted[i] in labels_to_sa_ids:\n",
    "                if splitted[i] in count_dict:\n",
    "                    count_dict[splitted[i]] += 1\n",
    "                else:\n",
    "                    count_dict[splitted[i]] = 1\n",
    "            else:\n",
    "                continue\n",
    "    return count_dict"
   ]
  },
  {
   "cell_type": "code",
   "execution_count": 72,
   "metadata": {},
   "outputs": [],
   "source": [
    "# Create two dataframes for hs labels and sa labels \n",
    "\n",
    "def create_table(train, test, binary=True):\n",
    "    if binary:\n",
    "        hs_df = pd.DataFrame({\"Offensiveness\": list(count_hs_labels(test).keys()), \"Test\":list(count_hs_labels(test).values()), \"Train\": list(count_hs_labels(train).values())})\n",
    "        sa_df = pd.DataFrame({\"Speech Acts\": list(count_sa_labels(test).keys()), \"Test\":list(count_sa_labels(test).values()), \"Train\": list(count_sa_labels(train).values())}) \n",
    "    else:\n",
    "        hs_df = pd.DataFrame({\"Offensiveness\": list(count_hs_labels(test, binary=False).keys()), \"Test\":list(count_hs_labels(test, binary=False).values()), \"Train\": list(count_hs_labels(train, binary=False).values())})\n",
    "        sa_df = pd.DataFrame({\"Speech Acts\": list(count_sa_labels(test).keys()), \"Test\":list(count_sa_labels(test).values()), \"Train\": list(count_sa_labels(train).values())}) \n",
    "    return hs_df, sa_df"
   ]
  },
  {
   "cell_type": "code",
   "execution_count": 75,
   "metadata": {},
   "outputs": [
    {
     "ename": "KeyError",
     "evalue": "2",
     "output_type": "error",
     "traceback": [
      "\u001b[0;31m---------------------------------------------------------------------------\u001b[0m",
      "\u001b[0;31mKeyError\u001b[0m                                  Traceback (most recent call last)",
      "Cell \u001b[0;32mIn[75], line 1\u001b[0m\n\u001b[0;32m----> 1\u001b[0m hs_df, sa_df \u001b[39m=\u001b[39m create_table(train, test, binary\u001b[39m=\u001b[39;49m\u001b[39mFalse\u001b[39;49;00m)\n\u001b[1;32m      2\u001b[0m \u001b[39mprint\u001b[39m(hs_df\u001b[39m.\u001b[39mto_latex(index\u001b[39m=\u001b[39m\u001b[39mFalse\u001b[39;00m))\n\u001b[1;32m      3\u001b[0m \u001b[39mprint\u001b[39m(sa_df\u001b[39m.\u001b[39mto_latex(index\u001b[39m=\u001b[39m\u001b[39mFalse\u001b[39;00m))\n",
      "Cell \u001b[0;32mIn[72], line 4\u001b[0m, in \u001b[0;36mcreate_table\u001b[0;34m(train, test, binary)\u001b[0m\n\u001b[1;32m      3\u001b[0m \u001b[39mdef\u001b[39;00m \u001b[39mcreate_table\u001b[39m(train, test, binary\u001b[39m=\u001b[39m\u001b[39mTrue\u001b[39;00m):\n\u001b[0;32m----> 4\u001b[0m     test_hs \u001b[39m=\u001b[39m count_hs_labels(test)\n\u001b[1;32m      5\u001b[0m     train_hs \u001b[39m=\u001b[39m count_hs_labels(train)\n\u001b[1;32m      6\u001b[0m     test_sa \u001b[39m=\u001b[39m count_sa_labels(test)\n",
      "Cell \u001b[0;32mIn[69], line 8\u001b[0m, in \u001b[0;36mcount_hs_labels\u001b[0;34m(df, binary)\u001b[0m\n\u001b[1;32m      6\u001b[0m \u001b[39mfor\u001b[39;00m i  \u001b[39min\u001b[39;00m \u001b[39mrange\u001b[39m(\u001b[39m0\u001b[39m, \u001b[39mlen\u001b[39m(label_counts)):\n\u001b[1;32m      7\u001b[0m     \u001b[39mif\u001b[39;00m binary:\n\u001b[0;32m----> 8\u001b[0m         count_dict[ids_to_binary_labels[i]] \u001b[39m=\u001b[39m label_counts[i]\n\u001b[1;32m      9\u001b[0m     \u001b[39melse\u001b[39;00m:\n\u001b[1;32m     10\u001b[0m         count_dict[ids_to_hs_labels[i]] \u001b[39m=\u001b[39m label_counts[i]\n",
      "\u001b[0;31mKeyError\u001b[0m: 2"
     ]
    }
   ],
   "source": [
    "hs_df, sa_df = create_table(train, test, binary=False)\n",
    "print(hs_df.to_latex(index=False))\n",
    "print(sa_df.to_latex(index=False))"
   ]
  }
 ],
 "metadata": {
  "kernelspec": {
   "display_name": "torch-nightly",
   "language": "python",
   "name": "python3"
  },
  "language_info": {
   "codemirror_mode": {
    "name": "ipython",
    "version": 3
   },
   "file_extension": ".py",
   "mimetype": "text/x-python",
   "name": "python",
   "nbconvert_exporter": "python",
   "pygments_lexer": "ipython3",
   "version": "3.8.16"
  },
  "orig_nbformat": 4
 },
 "nbformat": 4,
 "nbformat_minor": 2
}
